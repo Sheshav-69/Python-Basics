{
  "nbformat": 4,
  "nbformat_minor": 0,
  "metadata": {
    "colab": {
      "provenance": []
    },
    "kernelspec": {
      "name": "python3",
      "display_name": "Python 3"
    },
    "language_info": {
      "name": "python"
    }
  },
  "cells": [
    {
      "cell_type": "markdown",
      "source": [
        "# Q-1. What is Python, and why is it popular ?\n",
        "   Python is a high-level, interpreted, and general - purpose language known for its simplicity and readability. It supports multiple programming paradigms, including procedural, object oriented, and functional programming. It is versatile , readable and easy to learn, supports cross platform.\n",
        "  It is popular because-\n",
        "  - It is versatile that is it can be used in web development, AI and deep learning , automation and scripting.\n",
        "  - It supports large ecosystem.\n",
        "  - It is free to use and distribute , even for commercial purposes.\n",
        "  - Due to its applications it is high in demand.\n",
        "\n",
        "  \n"
      ],
      "metadata": {
        "id": "tbmZUSapqTuf"
      }
    },
    {
      "cell_type": "markdown",
      "source": [
        "# Q-2. What is an interpreter in Python ?\n",
        "\n",
        " An interpreter in Python is a program that reads and executes Python code line\n",
        "by line. Unlike a compiler, which translates the entire source code into machine code before execution, an interpreter translates each line of code and immediately executes it."
      ],
      "metadata": {
        "id": "nHlVBfLguScv"
      }
    },
    {
      "cell_type": "markdown",
      "source": [
        "# Q-3. What are pre-defined keywords in Python ?\n",
        "\n",
        " Pre-defined keywords in Python are reserved words that have special meaning and specific purposes in the language. These keywords form the building blocks of Python programs, as they are used to define the syntax and structure of the language. Since they are reserved, we cannot use them as variable names, function names, or any other identifiers.\n",
        " Few python keywords are- while, break , continue , return etc.\n",
        "\n"
      ],
      "metadata": {
        "id": "4Qk5bk5jvlet"
      }
    },
    {
      "cell_type": "markdown",
      "source": [
        "# Q-4. Can keywords be used as variable names ?\n",
        "No, keywords cannot be used as variable names in Python. Since keywords are reserved words with special meanings, using them as variable names would cause a syntax error. Python keywords define the language's syntax and structure, they cannot be used as identifiers like variable names, function names, or class names."
      ],
      "metadata": {
        "id": "V7rxEh34w0rb"
      }
    },
    {
      "cell_type": "markdown",
      "source": [
        "# Q-5. What is mutability in Python ?\n",
        "Mutability in Python refers to whether an object’s state (i.e., its data or content) can be modified after it is created. Objects in Python can be categorized as mutable or immutable based on whether they allow changes to their state. Example of mutable objects-\n",
        "Lists , Sets, Dictionaries."
      ],
      "metadata": {
        "id": "Gv2i0HGPxrFk"
      }
    },
    {
      "cell_type": "markdown",
      "source": [
        "# Q-6. Why are lists mutable, but tuples are immutable ?\n",
        "Lists are mutable because they are meant to handle dynamic data that may change over time. Tuples are immutable because they are designed to represent fixed collections of items, ensuring data integrity, enabling hashability, and improving performance. This distinction allows Python to offer flexibility with lists and consistency with tuples, providing programmers with the right tool for different use cases."
      ],
      "metadata": {
        "id": "1kPbBOGqyGaA"
      }
    },
    {
      "cell_type": "markdown",
      "source": [
        "# Q-7.  What is the difference between “==” and “is” operators in Python ?\n",
        "The \"==\" operator checks for equality of values, while the \"is\" operator checks for identity (memory location). Understanding the difference is crucial, especially when dealing with mutable objects like lists and dictionaries.\n"
      ],
      "metadata": {
        "id": "Dz-Qwi9nyvoA"
      }
    },
    {
      "cell_type": "markdown",
      "source": [
        "# Q-8. What are logical operators in Python ?\n",
        "There are three logical operators in Python:\n",
        "1. \"and\" Operator-  The \"and\" operator returns True only if both conditions are true. If any condition is False, it returns False.\n",
        "2. \"or\" Operator- The \"or\" operator returns True if at least one condition is true. It only returns False when both conditions are false.\n",
        "3. \"not\" Operator- The \"not\" operator returns the negation of the Boolean value. If the operand is True, it returns False, and if the operand is False, it returns True."
      ],
      "metadata": {
        "id": "aD_V8YNWzMHG"
      }
    },
    {
      "cell_type": "markdown",
      "source": [
        "# Q-9.  What is type casting in Python ?\n",
        "Type casting in Python refers to converting one data type into another. Python provides several built-in functions to perform explicit type conversion. This is useful when we need to operate on data of different types or ensure that the data type is compatible with the operation being performed."
      ],
      "metadata": {
        "id": "DgCg2Z0M0ZMq"
      }
    },
    {
      "cell_type": "markdown",
      "source": [
        "# Q-10. What is the difference between implicit and explicit type casting ?\n",
        "1. Implicit Type Casting- Implicit type casting is performed automatically by Python when it converts a smaller data type into a larger data type during an operation. Python does this to prevent data loss.\n",
        "2. Explicit Type Casting- Explicit type casting is when the programmer manually converts one data type into another using built-in functions."
      ],
      "metadata": {
        "id": "xEO72avK03hN"
      }
    },
    {
      "cell_type": "markdown",
      "source": [
        "# Q-11. What is the purpose of conditional statements in Python ?\n",
        "The purpose of conditional statements in Python is to introduce decision-making capabilities into your program. By allowing the program to execute specific blocks of code based on certain conditions, conditional statements provide flexibility, control, and efficiency in how a program behaves in different scenarios. This makes them a fundamental concept in programming and essential for writing dynamic, interactive applications."
      ],
      "metadata": {
        "id": "5tDtQ43V1S8j"
      }
    },
    {
      "cell_type": "markdown",
      "source": [
        "# Q-12.  How does the elif statement work ?\n",
        "The elif statement allows for multiple condition checks and ensures that only one block of code gets executed. It provides a more efficient and readable way to handle multiple conditions compared to using several if statements. It's typically used when you have a set of related conditions that are mutually exclusive and need to decide between them."
      ],
      "metadata": {
        "id": "Qtirbkdt1vq2"
      }
    },
    {
      "cell_type": "markdown",
      "source": [
        "# Q-13. What is the difference between for and while loops ?\n",
        "We use \"for\" loop when we know the number of iterations ahead of time or are iterating over a sequence (e.g., list, tuple, range).\n",
        "We use a \"while\" loop when we want the loop to continue based on a condition that changes dynamically within the loop (e.g., waiting for user input, running until a particular value is reached).\n"
      ],
      "metadata": {
        "id": "qmv0XTTG2ApG"
      }
    },
    {
      "cell_type": "markdown",
      "source": [
        "# Q-14. Describe a scenario where a while loop is more suitable than a for loop.\n",
        "Scenerio would be where authentication process is required, that is input from user is required.\n",
        "We don’t know the exact number of attempts the user might need. The loop should keep running until a condition (correct password) is met.\n",
        "The loop should continue until the user enters the correct password, so the loop’s execution depends on a dynamic condition (whether the password is correct or not).\n",
        "\n",
        "A \"for\" loop would not be suitable here because:\n",
        "\n",
        "\"for\" loop requires a predefined number of iterations or an iterable to loop over.\n",
        "In this case, you don’t know how many attempts the user will take to enter the correct password.\n",
        "Using a for loop would either require a fixed range or iterable, which doesn't suit the scenario of indefinite user input attempts.\n",
        "In contrast, the while loop is perfect because it handles the indefinite number of iterations based on a dynamic condition (user_input != correct_password)."
      ],
      "metadata": {
        "id": "z3mvQZvF3Q3I"
      }
    },
    {
      "cell_type": "markdown",
      "source": [
        "**# Practical Questions**"
      ],
      "metadata": {
        "id": "fCYaVYbe5EtP"
      }
    },
    {
      "cell_type": "code",
      "source": [
        "#  Q-1. Write a Python program to print \"Hello, World!\"\"\n",
        "print(\"Hello, World!\")\n"
      ],
      "metadata": {
        "colab": {
          "base_uri": "https://localhost:8080/"
        },
        "id": "aYbTuPz74N5i",
        "outputId": "936bedff-66f0-4053-e5e0-a64610d0ac21"
      },
      "execution_count": null,
      "outputs": [
        {
          "output_type": "stream",
          "name": "stdout",
          "text": [
            "Hello, World!\n"
          ]
        }
      ]
    },
    {
      "cell_type": "code",
      "source": [
        "#  Q-2. Write a Python program that displays your name and age.\n",
        "name = \"Sheshav Sharma\"\n",
        "age = 22\n",
        "print(\"name:\", name)\n",
        "print(\"age:\", age)\n"
      ],
      "metadata": {
        "colab": {
          "base_uri": "https://localhost:8080/"
        },
        "id": "JCIf6O2B4rYy",
        "outputId": "2582c692-ccfd-44e1-f56b-117d6b337685"
      },
      "execution_count": null,
      "outputs": [
        {
          "output_type": "stream",
          "name": "stdout",
          "text": [
            "name: Sheshav Sharma\n",
            "age: 22\n"
          ]
        }
      ]
    },
    {
      "cell_type": "code",
      "source": [
        "# Q-3. Write code to print all the pre-defined keywords in Python using the keyword library.\n",
        "import keyword\n",
        "\n",
        "# Print all Python keywords\n",
        "print(\"Python Keywords:\", keyword.kwlist)\n"
      ],
      "metadata": {
        "colab": {
          "base_uri": "https://localhost:8080/"
        },
        "id": "w-lKUoUt6Gzl",
        "outputId": "c8a1f076-630e-44ef-8a13-1eaf274c0fdf"
      },
      "execution_count": null,
      "outputs": [
        {
          "output_type": "stream",
          "name": "stdout",
          "text": [
            "Python Keywords: ['False', 'None', 'True', 'and', 'as', 'assert', 'async', 'await', 'break', 'class', 'continue', 'def', 'del', 'elif', 'else', 'except', 'finally', 'for', 'from', 'global', 'if', 'import', 'in', 'is', 'lambda', 'nonlocal', 'not', 'or', 'pass', 'raise', 'return', 'try', 'while', 'with', 'yield']\n"
          ]
        }
      ]
    },
    {
      "cell_type": "code",
      "source": [
        "# Q-4. Write a program that checks if a given word is a Python keyword.\n",
        "import keyword\n",
        "\n",
        "# Get input from the user\n",
        "word = input(\"Enter a word to check if it's a Python keyword: \")\n",
        "\n",
        "# Check if the word is a keyword\n",
        "if keyword.iskeyword(word):\n",
        "    print(f\"'{word}' is a Python keyword.\")\n",
        "else:\n",
        "    print(f\"'{word}' is not a Python keyword.\")\n"
      ],
      "metadata": {
        "colab": {
          "base_uri": "https://localhost:8080/"
        },
        "id": "fuWqngah6feQ",
        "outputId": "fec1d5b2-482c-4615-f939-a3344d7be2bb"
      },
      "execution_count": null,
      "outputs": [
        {
          "output_type": "stream",
          "name": "stdout",
          "text": [
            "Enter a word to check if it's a Python keyword: hello\n",
            "'hello' is not a Python keyword.\n"
          ]
        }
      ]
    },
    {
      "cell_type": "code",
      "source": [
        "# Q-5. Create a list and tuple in Python, and demonstrate how attempting to change an element works differently\n",
        "for each.\n",
        "# Creating a list and a tuple\n",
        "my_list = [1, 2, 3, 4, 5]\n",
        "my_tuple = (1, 2, 3, 4, 5)\n",
        "\n",
        "# Attempting to change an element in the list\n",
        "print(\"Original List:\", my_list)\n",
        "my_list[2] = 10  # Modifying the third element (index 2)\n",
        "print(\"Modified List:\", my_list)\n",
        "\n",
        "# Attempting to change an element in the tuple\n",
        "print(\"\\nOriginal Tuple:\", my_tuple)\n",
        "try:\n",
        "    my_tuple[2] = 10  # This will raise an error because tuples are immutable\n",
        "except TypeError as e:\n",
        "    print(f\"Error when modifying tuple: {e}\")\n"
      ],
      "metadata": {
        "colab": {
          "base_uri": "https://localhost:8080/",
          "height": 110
        },
        "id": "ITAqIDDB7E6e",
        "outputId": "b35e77d4-6ac1-4307-940d-647b2c7fcfbe"
      },
      "execution_count": null,
      "outputs": [
        {
          "output_type": "error",
          "ename": "SyntaxError",
          "evalue": "invalid syntax (<ipython-input-9-5126c6c421d0>, line 2)",
          "traceback": [
            "\u001b[0;36m  File \u001b[0;32m\"<ipython-input-9-5126c6c421d0>\"\u001b[0;36m, line \u001b[0;32m2\u001b[0m\n\u001b[0;31m    for each.\u001b[0m\n\u001b[0m             ^\u001b[0m\n\u001b[0;31mSyntaxError\u001b[0m\u001b[0;31m:\u001b[0m invalid syntax\n"
          ]
        }
      ]
    },
    {
      "cell_type": "code",
      "source": [
        "# Q-6.  Write a function to demonstrate the behavior of mutable and immutable arguments\n",
        "def demonstrate_mutable_immutable(mutable_arg, immutable_arg):\n",
        "    # Modify the mutable argument (a list)\n",
        "    mutable_arg.append(100)\n",
        "    print(\"Inside function - Mutable argument (after modification):\", mutable_arg)\n",
        "\n",
        "    # Attempt to modify the immutable argument (a string)\n",
        "    immutable_arg += \" world\"\n",
        "    print(\"Inside function - Immutable argument (after modification):\", immutable_arg)\n",
        "\n",
        "# Creating a mutable argument (list) and an immutable argument (string)\n",
        "mutable_list = [1, 2, 3]\n",
        "immutable_str = \"Hello\"\n",
        "\n",
        "# Before calling the function\n",
        "print(\"Before function call:\")\n",
        "print(\"Mutable argument (list):\", mutable_list)\n",
        "print(\"Immutable argument (string):\", immutable_str)\n",
        "\n",
        "# Call the function\n",
        "demonstrate_mutable_immutable(mutable_list, immutable_str)\n",
        "\n",
        "# After calling the function\n",
        "print(\"\\nAfter function call:\")\n",
        "print(\"Mutable argument (list):\", mutable_list)\n",
        "print(\"Immutable argument (string):\", immutable_str)\n"
      ],
      "metadata": {
        "colab": {
          "base_uri": "https://localhost:8080/"
        },
        "id": "-EYNpL2g8GAk",
        "outputId": "20a2055d-5bf1-457e-e02b-24df001c6413"
      },
      "execution_count": null,
      "outputs": [
        {
          "output_type": "stream",
          "name": "stdout",
          "text": [
            "Before function call:\n",
            "Mutable argument (list): [1, 2, 3]\n",
            "Immutable argument (string): Hello\n",
            "Inside function - Mutable argument (after modification): [1, 2, 3, 100]\n",
            "Inside function - Immutable argument (after modification): Hello world\n",
            "\n",
            "After function call:\n",
            "Mutable argument (list): [1, 2, 3, 100]\n",
            "Immutable argument (string): Hello\n"
          ]
        }
      ]
    },
    {
      "cell_type": "markdown",
      "source": [
        "# Q-7 same as Q-6."
      ],
      "metadata": {
        "id": "6lJqvVwi8ghq"
      }
    },
    {
      "cell_type": "code",
      "source": [
        "# Q-8. Program to demonstrate the use of logical operators.\n",
        "\n",
        "def main():\n",
        "    print(\"Logical Operators Demonstration\")\n",
        "    print(\"Enter two Boolean values (True/False):\")\n",
        "\n",
        "    # Taking user input\n",
        "    value1 = input(\"Enter the first Boolean value (True/False): \").strip().capitalize()\n",
        "    value2 = input(\"Enter the second Boolean value (True/False): \").strip().capitalize()\n",
        "\n",
        "    # Converting input to Boolean\n",
        "    if value1 not in [\"True\", \"False\"] or value2 not in [\"True\", \"False\"]:\n",
        "        print(\"Invalid input. Please enter 'True' or 'False'.\")\n",
        "        return\n",
        "\n",
        "    bool1 = value1 == \"True\"\n",
        "    bool2 = value2 == \"True\"\n",
        "\n",
        "    # Logical AND\n",
        "    print(f\"\\nLogical AND (bool1 and bool2): {bool1 and bool2}\")\n",
        "    print(\"Explanation: True if both values are True, otherwise False.\")\n",
        "\n",
        "    # Logical OR\n",
        "    print(f\"\\nLogical OR (bool1 or bool2): {bool1 or bool2}\")\n",
        "    print(\"Explanation: True if at least one value is True, otherwise False.\")\n",
        "\n",
        "    # Logical NOT\n",
        "    print(f\"\\nLogical NOT of bool1 (not bool1): {not bool1}\")\n",
        "    print(\"Explanation: Negates the value. True becomes False, and False becomes True.\")\n",
        "\n",
        "if __name__ == \"__main__\":\n",
        "    main()\n"
      ],
      "metadata": {
        "colab": {
          "base_uri": "https://localhost:8080/"
        },
        "id": "4Pa-hPbEBfHZ",
        "outputId": "c424494a-bf41-4841-b24b-e0e1ea80ef1e"
      },
      "execution_count": null,
      "outputs": [
        {
          "output_type": "stream",
          "name": "stdout",
          "text": [
            "Logical Operators Demonstration\n",
            "Enter two Boolean values (True/False):\n",
            "Enter the first Boolean value (True/False): true\n",
            "Enter the second Boolean value (True/False): false\n",
            "\n",
            "Logical AND (bool1 and bool2): False\n",
            "Explanation: True if both values are True, otherwise False.\n",
            "\n",
            "Logical OR (bool1 or bool2): True\n",
            "Explanation: True if at least one value is True, otherwise False.\n",
            "\n",
            "Logical NOT of bool1 (not bool1): False\n",
            "Explanation: Negates the value. True becomes False, and False becomes True.\n"
          ]
        }
      ]
    },
    {
      "cell_type": "code",
      "source": [
        "# Q-9. Write a Python program to convert user input from string to integer, float, and boolean types.\n",
        "def main():\n",
        "    print(\"Data Type Conversion Demonstration\")\n",
        "    user_input = input(\"Enter a value: \").strip()\n",
        "\n",
        "    # Convert to integer\n",
        "    try:\n",
        "        int_value = int(user_input)\n",
        "        print(f\"\\nInteger conversion: {int_value} (Type: {type(int_value)})\")\n",
        "    except ValueError:\n",
        "        print(\"\\nInteger conversion: Failed (Invalid input for integer)\")\n",
        "\n",
        "    # Convert to float\n",
        "    try:\n",
        "        float_value = float(user_input)\n",
        "        print(f\"Float conversion: {float_value} (Type: {type(float_value)})\")\n",
        "    except ValueError:\n",
        "        print(\"Float conversion: Failed (Invalid input for float)\")\n",
        "\n",
        "    # Convert to boolean\n",
        "    bool_value = bool(user_input)\n",
        "    print(f\"Boolean conversion: {bool_value} (Type: {type(bool_value)})\")\n",
        "    print(\"Explanation: An empty string evaluates to False, any other value evaluates to True.\")\n",
        "\n",
        "if __name__ == \"__main__\":\n",
        "    main()\n"
      ],
      "metadata": {
        "colab": {
          "base_uri": "https://localhost:8080/"
        },
        "id": "8zIi7v-ZDFER",
        "outputId": "19adfc43-b756-497d-849c-4d3b1d2c5490"
      },
      "execution_count": null,
      "outputs": [
        {
          "output_type": "stream",
          "name": "stdout",
          "text": [
            "Data Type Conversion Demonstration\n",
            "Enter a value: 456\n",
            "\n",
            "Integer conversion: 456 (Type: <class 'int'>)\n",
            "Float conversion: 456.0 (Type: <class 'float'>)\n",
            "Boolean conversion: True (Type: <class 'bool'>)\n",
            "Explanation: An empty string evaluates to False, any other value evaluates to True.\n"
          ]
        }
      ]
    },
    {
      "cell_type": "code",
      "source": [
        "# Q-10. Write code to demonstrate type casting with list elements.\n",
        "# Create a list with mixed data types (string, integer, and float)\n",
        "mixed_list = [\"10\", 20, 3.5]\n",
        "\n",
        "# Convert the string element to an integer\n",
        "mixed_list[0] = int(mixed_list[0])\n",
        "\n",
        "# Convert the integer element to a float\n",
        "mixed_list[1] = float(mixed_list[1])\n",
        "\n",
        "# Convert the float element to an integer\n",
        "mixed_list[2] = int(mixed_list[2])\n",
        "\n",
        "# Print the modified list\n",
        "print(\"Modified list with type casting:\", mixed_list)\n"
      ],
      "metadata": {
        "colab": {
          "base_uri": "https://localhost:8080/"
        },
        "id": "Ux0QSMl99tD7",
        "outputId": "8b218b16-5bba-487d-95cd-f9ea3cf2b641"
      },
      "execution_count": null,
      "outputs": [
        {
          "output_type": "stream",
          "name": "stdout",
          "text": [
            "Modified list with type casting: [10, 20.0, 3]\n"
          ]
        }
      ]
    },
    {
      "cell_type": "code",
      "source": [
        "# Q-11. Write a program that checks if a number is positive, negative, or zero.\n",
        "\n",
        "def main():\n",
        "    print(\"Number Classification Program\")\n",
        "\n",
        "    # Getting input from the user\n",
        "    try:\n",
        "        number = float(input(\"Enter a number: \"))\n",
        "\n",
        "        # Check if the number is positive, negative, or zero\n",
        "        if number > 0:\n",
        "            print(f\"The number {number} is positive.\")\n",
        "        elif number < 0:\n",
        "            print(f\"The number {number} is negative.\")\n",
        "        else:\n",
        "            print(\"The number is zero.\")\n",
        "    except ValueError:\n",
        "        print(\"Invalid input. Please enter a valid number.\")\n",
        "\n",
        "if __name__ == \"__main__\":\n",
        "    main()\n"
      ],
      "metadata": {
        "colab": {
          "base_uri": "https://localhost:8080/"
        },
        "id": "kU0NIIfhEhoE",
        "outputId": "1d4478b9-8137-4b39-f6a0-ec6f80cbae3a"
      },
      "execution_count": null,
      "outputs": [
        {
          "output_type": "stream",
          "name": "stdout",
          "text": [
            "Number Classification Program\n",
            "Enter a number: 34\n",
            "The number 34.0 is positive.\n"
          ]
        }
      ]
    },
    {
      "cell_type": "code",
      "source": [
        "# Q-12.  Write a for loop to print numbers from 1 to 10.\n",
        "print(\"Numbers from 1 to 10:\")\n",
        "for number in range(1, 11):  # range(start, stop) generates numbers from start to stop-1\n",
        "    print(number)\n"
      ],
      "metadata": {
        "colab": {
          "base_uri": "https://localhost:8080/"
        },
        "id": "8gPWhfDwFSxe",
        "outputId": "ce5ba356-9a7a-46ba-d04f-54d927c992a5"
      },
      "execution_count": null,
      "outputs": [
        {
          "output_type": "stream",
          "name": "stdout",
          "text": [
            "Numbers from 1 to 10:\n",
            "1\n",
            "2\n",
            "3\n",
            "4\n",
            "5\n",
            "6\n",
            "7\n",
            "8\n",
            "9\n",
            "10\n"
          ]
        }
      ]
    },
    {
      "cell_type": "code",
      "source": [
        "# Q-13.  Write a Python program to find the sum of all even numbers between 1 and 50.\n",
        "# Initializing sum variable\n",
        "sum_of_evens = 0\n",
        "\n",
        "# Iterating through numbers between 1 and 50\n",
        "for num in range(1, 51):\n",
        "    if num % 2 == 0:  # Check if the number is even\n",
        "        sum_of_evens += num\n",
        "\n",
        "# Printing the sum of even numbers\n",
        "print(\"Sum of all even numbers between 1 and 50:\", sum_of_evens)\n"
      ],
      "metadata": {
        "colab": {
          "base_uri": "https://localhost:8080/"
        },
        "id": "jOcsToDf-JJE",
        "outputId": "9c559e5e-b13f-47b7-ccc4-28cf771cb943"
      },
      "execution_count": null,
      "outputs": [
        {
          "output_type": "stream",
          "name": "stdout",
          "text": [
            "Sum of all even numbers between 1 and 50: 650\n"
          ]
        }
      ]
    },
    {
      "cell_type": "code",
      "source": [
        "# Q-14. Write a program to reverse a string using a while loop.\n",
        "def reverse_string(input_string):\n",
        "    reversed_string = \"\"\n",
        "    index = len(input_string) - 1\n",
        "\n",
        "\n",
        "    while index >= 0:\n",
        "        reversed_string += input_string[index]\n",
        "        index -= 1\n",
        "    return reversed_string\n",
        "\n",
        "# Example usage\n",
        "input_string = \"Hello, World!\"\n",
        "reversed_str = reverse_string(input_string)\n",
        "print(\"Original string:\", input_string)\n",
        "print(\"Reversed string:\", reversed_str)\n"
      ],
      "metadata": {
        "colab": {
          "base_uri": "https://localhost:8080/"
        },
        "id": "t9bo6uSS8mgc",
        "outputId": "5a02967b-6eba-4180-9cc5-a5e6d7c8e176"
      },
      "execution_count": null,
      "outputs": [
        {
          "output_type": "stream",
          "name": "stdout",
          "text": [
            "Original string: Hello, World!\n",
            "Reversed string: !dlroW ,olleH\n"
          ]
        }
      ]
    },
    {
      "cell_type": "code",
      "source": [
        "# Q-15. Write a Python program to calculate the factorial of a number provided by the user using a while loop.\n",
        "def calculate_factorial(n):\n",
        "    # Initializing result to 1 (factorial of 0 is 1)\n",
        "    factorial = 1\n",
        "\n",
        "    # Using while loop to calculate factorial\n",
        "    while n > 0:\n",
        "        factorial *= n  # Multiply result by n\n",
        "        n -= 1  # Decrease n by 1\n",
        "\n",
        "    return factorial\n",
        "\n",
        "# Getting input from the user\n",
        "number = int(input(\"Enter a number to calculate its factorial: \"))\n",
        "\n",
        "# Checking for negative numbers\n",
        "if number < 0:\n",
        "    print(\"Factorial is not defined for negative numbers.\")\n",
        "else:\n",
        "    result = calculate_factorial(number)\n",
        "    print(f\"The factorial of {number} is: {result}\")\n"
      ],
      "metadata": {
        "colab": {
          "base_uri": "https://localhost:8080/"
        },
        "id": "GUHDhg7W9RaD",
        "outputId": "197fadd2-5e7f-4a1e-fae3-4cd703808aa6"
      },
      "execution_count": null,
      "outputs": [
        {
          "output_type": "stream",
          "name": "stdout",
          "text": [
            "Enter a number to calculate its factorial: 7\n",
            "The factorial of 7 is: 5040\n"
          ]
        }
      ]
    }
  ]
}